{
 "cells": [
  {
   "cell_type": "code",
   "execution_count": 1,
   "id": "e3b5e831-4b1f-4a7b-ba8c-686b8bde9cf6",
   "metadata": {},
   "outputs": [],
   "source": [
    "import pandas as pd # used for data manipulation\n",
    "import numpy as np #used for array manipulation\n",
    "import tensorflow as tf #deep learning llibrary for training, building and evaluating the model\n",
    "import matplotlib.pyplot as plt #visualize ECG data \n",
    "import seaborn as sns\n"
   ]
  },
  {
   "cell_type": "code",
   "execution_count": 3,
   "id": "d0cd6e40-7106-4cb1-845f-23b28172b591",
   "metadata": {},
   "outputs": [],
   "source": [
    "from sklearn.preprocessing import StandardScaler\n",
    "from sklearn.metrics import confusion_matrix, recall_score, accuracy_score, precision_score"
   ]
  },
  {
   "cell_type": "markdown",
   "id": "930acbff-13b5-4061-be51-de1f5d2bf777",
   "metadata": {},
   "source": [
    "Assigning values to variables"
   ]
  },
  {
   "cell_type": "code",
   "execution_count": 4,
   "id": "8e8f5b05-3fe9-493f-b4eb-e54b359db465",
   "metadata": {},
   "outputs": [],
   "source": [
    "RANDOM_SEED = 2021\n",
    "TEST_PCT = 0.3\n",
    "LABELS = [\"Normal\", \"Fraud\"]"
   ]
  },
  {
   "cell_type": "code",
   "execution_count": 6,
   "id": "1e6429e8-df21-4fc2-a80d-7fec3a082a2f",
   "metadata": {},
   "outputs": [],
   "source": [
    "dataset= pd.read_csv(\"creditcard.csv\") #load the dataset "
   ]
  },
  {
   "cell_type": "code",
   "execution_count": 8,
   "id": "123fd939-7fae-4b90-ab1d-3ecd1ae536b3",
   "metadata": {},
   "outputs": [],
   "source": [
    "dataset = dataset.dropna() #remove null values"
   ]
  },
  {
   "cell_type": "code",
   "execution_count": 9,
   "id": "127afe60-9965-4501-8906-9be883f546f2",
   "metadata": {},
   "outputs": [
    {
     "name": "stdout",
     "output_type": "stream",
     "text": [
      "Any nulls in the dataset False\n"
     ]
    }
   ],
   "source": [
    "print(\"Any nulls in the dataset\", dataset.isnull().values.any()) #Checking for null values"
   ]
  },
  {
   "cell_type": "code",
   "execution_count": 10,
   "id": "78a866b9-6aa4-4693-b95b-7403121f55e7",
   "metadata": {},
   "outputs": [
    {
     "name": "stdout",
     "output_type": "stream",
     "text": [
      "No. of unique labels 2\n",
      "Label values [0. 1.]\n"
     ]
    }
   ],
   "source": [
    "print(\"No. of unique labels\", len(dataset['Class'].unique())) #the number of unique labels and their values\n",
    "print(\"Label values\", dataset.Class.unique())"
   ]
  },
  {
   "cell_type": "code",
   "execution_count": 13,
   "id": "e844ae08-18a2-495f-9e60-558bf5f028ef",
   "metadata": {},
   "outputs": [
    {
     "name": "stdout",
     "output_type": "stream",
     "text": [
      "Break down of Normal and Fraud Transaction\n",
      "Class\n",
      "0.0    1983\n",
      "1.0       2\n",
      "Name: count, dtype: int64\n"
     ]
    }
   ],
   "source": [
    "print(\"Break down of Normal and Fraud Transaction\")\n",
    "transaction_counts = dataset['Class'].value_counts(sort=True)\n",
    "print(transaction_counts) #0- is for normal credit card, 1-fraud credit card"
   ]
  },
  {
   "cell_type": "markdown",
   "id": "7bc3a783-f73c-40c2-ad07-5ea94227012d",
   "metadata": {},
   "source": [
    "Visualize the distribution of the classes (e.g., \"Normal\" vs. \"Fraud\") in the dataset"
   ]
  },
  {
   "cell_type": "code",
   "execution_count": 47,
   "id": "ed8826c3-c943-41eb-a8e8-259553985521",
   "metadata": {},
   "outputs": [
    {
     "data": {
      "image/png": "[encoded data removed]",
      "text/plain": [
       "<Figure size 640x480 with 1 Axes>"
      ]
     },
     "metadata": {},
     "output_type": "display_data"
    }
   ],
   "source": [
    "count_classes = dataset['Class'].value_counts(sort=True)\n",
    "count_classes.plot(kind='bar', rot=0)\n",
    "plt.xticks(range(len(dataset['Class'].unique())), dataset['Class'].unique())\n",
    "plt.title(\"Frequency by observation number\")\n",
    "plt.xlabel(\"Class\")\n",
    "plt.ylabel(\"Number of Observations\")\n",
    "plt.show()\n"
   ]
  },
  {
   "cell_type": "markdown",
   "id": "7e38a8dc-bcfb-4b5b-96a9-05b5dcf8e2a8",
   "metadata": {},
   "source": [
    "Filters the dataset into two separate subsets "
   ]
  },
  {
   "cell_type": "code",
   "execution_count": 48,
   "id": "a182b31b-4a9f-4763-8036-3d3474c246f7",
   "metadata": {},
   "outputs": [],
   "source": [
    "normal_dataset= dataset[dataset.Class==0]\n",
    "fraud_dataset= dataset[dataset.Class ==1]\n"
   ]
  },
  {
   "cell_type": "markdown",
   "id": "fa887ca3-69b0-4721-883c-008afde9dfa2",
   "metadata": {},
   "source": [
    "Training and Testing datasets"
   ]
  },
  {
   "cell_type": "code",
   "execution_count": 49,
   "id": "46b530e2-c84c-44ce-95ff-47ee63f71d81",
   "metadata": {},
   "outputs": [],
   "source": [
    "from sklearn.model_selection import train_test_split"
   ]
  },
  {
   "cell_type": "code",
   "execution_count": 50,
   "id": "d518f32f-4100-4a8e-a73f-9fed5912d0b6",
   "metadata": {},
   "outputs": [],
   "source": [
    "raw_data = dataset.values  # Convert to NumPy array\n",
    "labels = raw_data[:, -1] \n",
    "data = raw_data[:, 0:-1]"
   ]
  },
  {
   "cell_type": "code",
   "execution_count": 51,
   "id": "42a22c75-a17a-4f78-a9ec-6f00e00b19c0",
   "metadata": {},
   "outputs": [],
   "source": [
    "train_data, test_data, train_labels, test_labels = train_test_split(data, labels, test_size=0.2, random_state=2021)"
   ]
  },
  {
   "cell_type": "markdown",
   "id": "1d5564a2-f591-4a73-8dd8-447bada91fc0",
   "metadata": {},
   "source": [
    "Min-Max normalization"
   ]
  },
  {
   "cell_type": "code",
   "execution_count": 52,
   "id": "ce8eb352-915c-4436-9f8b-34cf3b12948d",
   "metadata": {},
   "outputs": [],
   "source": [
    "min_val = tf.reduce_min(train_data)\n",
    "max_val = tf.reduce_max(train_data)"
   ]
  },
  {
   "cell_type": "code",
   "execution_count": 53,
   "id": "df2d4573-a7e5-4225-bcd8-462119c659aa",
   "metadata": {},
   "outputs": [],
   "source": [
    "train_data = (train_data - min_val) / (max_val - min_val)\n",
    "test_data = (test_data - min_val) / (max_val - min_val)"
   ]
  },
  {
   "cell_type": "code",
   "execution_count": 54,
   "id": "f5e779c3-b78c-40b1-b9a3-fe01a5797c39",
   "metadata": {},
   "outputs": [],
   "source": [
    "#Casting the data to float32 (necessary for TensorFlow)\n",
    "train_data = tf.cast(train_data, tf.float32)\n",
    "test_data = tf.cast(test_data, tf.float32)"
   ]
  },
  {
   "cell_type": "code",
   "execution_count": 55,
   "id": "ca1317f8-b62e-45f7-8be2-b8363e89583c",
   "metadata": {},
   "outputs": [],
   "source": [
    "# Converting labels to boolean\n",
    "train_labels = train_labels.astype(bool)\n",
    "test_labels = test_labels.astype(bool)"
   ]
  },
  {
   "cell_type": "code",
   "execution_count": 56,
   "id": "5b4b7662-df24-4d3b-82d0-ec571f1eab79",
   "metadata": {},
   "outputs": [],
   "source": [
    "# Creating separate datasets for normal and fraud transactions\n",
    "normal_train_data = train_data[~train_labels]\n",
    "normal_test_data = test_data[~test_labels]"
   ]
  },
  {
   "cell_type": "code",
   "execution_count": 57,
   "id": "14f80ae3-53ce-4713-95ba-f58e46a0da96",
   "metadata": {},
   "outputs": [],
   "source": [
    "fraud_train_data = train_data[train_labels]\n",
    "fraud_test_data = test_data[test_labels]"
   ]
  },
  {
   "cell_type": "code",
   "execution_count": 58,
   "id": "ad1cd000-7e1f-411c-8025-dac53a8e0bcd",
   "metadata": {},
   "outputs": [
    {
     "name": "stdout",
     "output_type": "stream",
     "text": [
      "No. of records in Fraud Train Data = 1\n",
      "No. of records in Normal Train Data = 1587\n",
      "No. of records in Fraud Test Data = 1\n",
      "No. of records in Normal Test Data = 396\n"
     ]
    }
   ],
   "source": [
    "# Printing the sizes of the datasets\n",
    "print(\"No. of records in Fraud Train Data =\", len(fraud_train_data))\n",
    "print(\"No. of records in Normal Train Data =\", len(normal_train_data))\n",
    "print(\"No. of records in Fraud Test Data =\", len(fraud_test_data))\n",
    "print(\"No. of records in Normal Test Data =\", len(normal_test_data))"
   ]
  },
  {
   "cell_type": "code",
   "execution_count": 59,
   "id": "4d7eaaca-d738-4748-8402-c01d6b6afd55",
   "metadata": {},
   "outputs": [],
   "source": [
    "nb_epoch = 50 #No. of epochs\n",
    "batch_size = 64\n",
    "input_dim = normal_train_data.shape[1]\n",
    "encoding_dim = 14\n",
    "hidden_dim1 = int(encoding_dim / 2)\n",
    "hidden_dim2 = 4\n",
    "learning_rate = 1e-7"
   ]
  },
  {
   "cell_type": "code",
   "execution_count": 60,
   "id": "03e32dcf-00eb-446c-99a1-d8690624ed67",
   "metadata": {},
   "outputs": [],
   "source": [
    "#input layer\n",
    "input_layer = tf.keras.layers.Input(shape=(input_dim,))"
   ]
  },
  {
   "cell_type": "code",
   "execution_count": 61,
   "id": "ab874e90-349d-464b-a3e1-8ccbedc092db",
   "metadata": {},
   "outputs": [],
   "source": [
    "#Encoder\n",
    "encoder = tf.keras.layers.Dense(encoding_dim,activation=\"tanh\",activity_regularizer = tf.keras.regularizers.l2(learning_rate))(input_layer)\n",
    "encoder = tf.keras.layers.Dropout(0.2)(encoder)\n",
    "encoder = tf.keras.layers.Dense(hidden_dim1,activation='relu')(encoder)\n",
    "encoder = tf.keras.layers.Dense(hidden_dim2,activation=tf.nn.leaky_relu)(encoder)"
   ]
  },
  {
   "cell_type": "code",
   "execution_count": 62,
   "id": "e5b4ebcb-7720-470b-9f1c-284602489989",
   "metadata": {},
   "outputs": [],
   "source": [
    "#Decoder\n",
    "decoder = tf.keras.layers.Dense(hidden_dim1,activation='relu')(encoder)\n",
    "decoder = tf.keras.layers.Dropout(0.2)(decoder)\n",
    "decoder = tf.keras.layers.Dense(encoding_dim,activation='relu')(decoder)\n",
    "decoder = tf.keras.layers.Dense(input_dim,activation='tanh')(decoder)"
   ]
  },
  {
   "cell_type": "code",
   "execution_count": 63,
   "id": "693a43f4-5536-496b-b063-7e7330b6d7bd",
   "metadata": {},
   "outputs": [
    {
     "data": {
      "text/html": [
       "<pre style=\"white-space:pre;overflow-x:auto;line-height:normal;font-family:Menlo,'DejaVu Sans Mono',consolas,'Courier New',monospace\"><span style=\"font-weight: bold\">Model: \"functional_1\"</span>\n",
       "</pre>\n"
      ],
      "text/plain": [
       "\u001b[1mModel: \"functional_1\"\u001b[0m\n"
      ]
     },
     "metadata": {},
     "output_type": "display_data"
    },
    {
     "data": {
      "text/html": [
       "<pre style=\"white-space:pre;overflow-x:auto;line-height:normal;font-family:Menlo,'DejaVu Sans Mono',consolas,'Courier New',monospace\">┏━━━━━━━━━━━━━━━━━━━━━━━━━━━━━━━━━┳━━━━━━━━━━━━━━━━━━━━━━━━┳━━━━━━━━━━━━━━━┓\n",
       "┃<span style=\"font-weight: bold\"> Layer (type)                    </span>┃<span style=\"font-weight: bold\"> Output Shape           </span>┃<span style=\"font-weight: bold\">       Param # </span>┃\n",
       "┡━━━━━━━━━━━━━━━━━━━━━━━━━━━━━━━━━╇━━━━━━━━━━━━━━━━━━━━━━━━╇━━━━━━━━━━━━━━━┩\n",
       "│ input_layer_1 (<span style=\"color: #0087ff; text-decoration-color: #0087ff\">InputLayer</span>)      │ (<span style=\"color: #00d7ff; text-decoration-color: #00d7ff\">None</span>, <span style=\"color: #00af00; text-decoration-color: #00af00\">30</span>)             │             <span style=\"color: #00af00; text-decoration-color: #00af00\">0</span> │\n",
       "├─────────────────────────────────┼────────────────────────┼───────────────┤\n",
       "│ dense_6 (<span style=\"color: #0087ff; text-decoration-color: #0087ff\">Dense</span>)                 │ (<span style=\"color: #00d7ff; text-decoration-color: #00d7ff\">None</span>, <span style=\"color: #00af00; text-decoration-color: #00af00\">14</span>)             │           <span style=\"color: #00af00; text-decoration-color: #00af00\">434</span> │\n",
       "├─────────────────────────────────┼────────────────────────┼───────────────┤\n",
       "│ dropout_2 (<span style=\"color: #0087ff; text-decoration-color: #0087ff\">Dropout</span>)             │ (<span style=\"color: #00d7ff; text-decoration-color: #00d7ff\">None</span>, <span style=\"color: #00af00; text-decoration-color: #00af00\">14</span>)             │             <span style=\"color: #00af00; text-decoration-color: #00af00\">0</span> │\n",
       "├─────────────────────────────────┼────────────────────────┼───────────────┤\n",
       "│ dense_7 (<span style=\"color: #0087ff; text-decoration-color: #0087ff\">Dense</span>)                 │ (<span style=\"color: #00d7ff; text-decoration-color: #00d7ff\">None</span>, <span style=\"color: #00af00; text-decoration-color: #00af00\">7</span>)              │           <span style=\"color: #00af00; text-decoration-color: #00af00\">105</span> │\n",
       "├─────────────────────────────────┼────────────────────────┼───────────────┤\n",
       "│ dense_8 (<span style=\"color: #0087ff; text-decoration-color: #0087ff\">Dense</span>)                 │ (<span style=\"color: #00d7ff; text-decoration-color: #00d7ff\">None</span>, <span style=\"color: #00af00; text-decoration-color: #00af00\">4</span>)              │            <span style=\"color: #00af00; text-decoration-color: #00af00\">32</span> │\n",
       "├─────────────────────────────────┼────────────────────────┼───────────────┤\n",
       "│ dense_9 (<span style=\"color: #0087ff; text-decoration-color: #0087ff\">Dense</span>)                 │ (<span style=\"color: #00d7ff; text-decoration-color: #00d7ff\">None</span>, <span style=\"color: #00af00; text-decoration-color: #00af00\">7</span>)              │            <span style=\"color: #00af00; text-decoration-color: #00af00\">35</span> │\n",
       "├─────────────────────────────────┼────────────────────────┼───────────────┤\n",
       "│ dropout_3 (<span style=\"color: #0087ff; text-decoration-color: #0087ff\">Dropout</span>)             │ (<span style=\"color: #00d7ff; text-decoration-color: #00d7ff\">None</span>, <span style=\"color: #00af00; text-decoration-color: #00af00\">7</span>)              │             <span style=\"color: #00af00; text-decoration-color: #00af00\">0</span> │\n",
       "├─────────────────────────────────┼────────────────────────┼───────────────┤\n",
       "│ dense_10 (<span style=\"color: #0087ff; text-decoration-color: #0087ff\">Dense</span>)                │ (<span style=\"color: #00d7ff; text-decoration-color: #00d7ff\">None</span>, <span style=\"color: #00af00; text-decoration-color: #00af00\">14</span>)             │           <span style=\"color: #00af00; text-decoration-color: #00af00\">112</span> │\n",
       "├─────────────────────────────────┼────────────────────────┼───────────────┤\n",
       "│ dense_11 (<span style=\"color: #0087ff; text-decoration-color: #0087ff\">Dense</span>)                │ (<span style=\"color: #00d7ff; text-decoration-color: #00d7ff\">None</span>, <span style=\"color: #00af00; text-decoration-color: #00af00\">30</span>)             │           <span style=\"color: #00af00; text-decoration-color: #00af00\">450</span> │\n",
       "└─────────────────────────────────┴────────────────────────┴───────────────┘\n",
       "</pre>\n"
      ],
      "text/plain": [
       "┏━━━━━━━━━━━━━━━━━━━━━━━━━━━━━━━━━┳━━━━━━━━━━━━━━━━━━━━━━━━┳━━━━━━━━━━━━━━━┓\n",
       "┃\u001b[1m \u001b[0m\u001b[1mLayer (type)                   \u001b[0m\u001b[1m \u001b[0m┃\u001b[1m \u001b[0m\u001b[1mOutput Shape          \u001b[0m\u001b[1m \u001b[0m┃\u001b[1m \u001b[0m\u001b[1m      Param #\u001b[0m\u001b[1m \u001b[0m┃\n",
       "┡━━━━━━━━━━━━━━━━━━━━━━━━━━━━━━━━━╇━━━━━━━━━━━━━━━━━━━━━━━━╇━━━━━━━━━━━━━━━┩\n",
       "│ input_layer_1 (\u001b[38;5;33mInputLayer\u001b[0m)      │ (\u001b[38;5;45mNone\u001b[0m, \u001b[38;5;34m30\u001b[0m)             │             \u001b[38;5;34m0\u001b[0m │\n",
       "├─────────────────────────────────┼────────────────────────┼───────────────┤\n",
       "│ dense_6 (\u001b[38;5;33mDense\u001b[0m)                 │ (\u001b[38;5;45mNone\u001b[0m, \u001b[38;5;34m14\u001b[0m)             │           \u001b[38;5;34m434\u001b[0m │\n",
       "├─────────────────────────────────┼────────────────────────┼───────────────┤\n",
       "│ dropout_2 (\u001b[38;5;33mDropout\u001b[0m)             │ (\u001b[38;5;45mNone\u001b[0m, \u001b[38;5;34m14\u001b[0m)             │             \u001b[38;5;34m0\u001b[0m │\n",
       "├─────────────────────────────────┼────────────────────────┼───────────────┤\n",
       "│ dense_7 (\u001b[38;5;33mDense\u001b[0m)                 │ (\u001b[38;5;45mNone\u001b[0m, \u001b[38;5;34m7\u001b[0m)              │           \u001b[38;5;34m105\u001b[0m │\n",
       "├─────────────────────────────────┼────────────────────────┼───────────────┤\n",
       "│ dense_8 (\u001b[38;5;33mDense\u001b[0m)                 │ (\u001b[38;5;45mNone\u001b[0m, \u001b[38;5;34m4\u001b[0m)              │            \u001b[38;5;34m32\u001b[0m │\n",
       "├─────────────────────────────────┼────────────────────────┼───────────────┤\n",
       "│ dense_9 (\u001b[38;5;33mDense\u001b[0m)                 │ (\u001b[38;5;45mNone\u001b[0m, \u001b[38;5;34m7\u001b[0m)              │            \u001b[38;5;34m35\u001b[0m │\n",
       "├─────────────────────────────────┼────────────────────────┼───────────────┤\n",
       "│ dropout_3 (\u001b[38;5;33mDropout\u001b[0m)             │ (\u001b[38;5;45mNone\u001b[0m, \u001b[38;5;34m7\u001b[0m)              │             \u001b[38;5;34m0\u001b[0m │\n",
       "├─────────────────────────────────┼────────────────────────┼───────────────┤\n",
       "│ dense_10 (\u001b[38;5;33mDense\u001b[0m)                │ (\u001b[38;5;45mNone\u001b[0m, \u001b[38;5;34m14\u001b[0m)             │           \u001b[38;5;34m112\u001b[0m │\n",
       "├─────────────────────────────────┼────────────────────────┼───────────────┤\n",
       "│ dense_11 (\u001b[38;5;33mDense\u001b[0m)                │ (\u001b[38;5;45mNone\u001b[0m, \u001b[38;5;34m30\u001b[0m)             │           \u001b[38;5;34m450\u001b[0m │\n",
       "└─────────────────────────────────┴────────────────────────┴───────────────┘\n"
      ]
     },
     "metadata": {},
     "output_type": "display_data"
    },
    {
     "data": {
      "text/html": [
       "<pre style=\"white-space:pre;overflow-x:auto;line-height:normal;font-family:Menlo,'DejaVu Sans Mono',consolas,'Courier New',monospace\"><span style=\"font-weight: bold\"> Total params: </span><span style=\"color: #00af00; text-decoration-color: #00af00\">1,168</span> (4.56 KB)\n",
       "</pre>\n"
      ],
      "text/plain": [
       "\u001b[1m Total params: \u001b[0m\u001b[38;5;34m1,168\u001b[0m (4.56 KB)\n"
      ]
     },
     "metadata": {},
     "output_type": "display_data"
    },
    {
     "data": {
      "text/html": [
       "<pre style=\"white-space:pre;overflow-x:auto;line-height:normal;font-family:Menlo,'DejaVu Sans Mono',consolas,'Courier New',monospace\"><span style=\"font-weight: bold\"> Trainable params: </span><span style=\"color: #00af00; text-decoration-color: #00af00\">1,168</span> (4.56 KB)\n",
       "</pre>\n"
      ],
      "text/plain": [
       "\u001b[1m Trainable params: \u001b[0m\u001b[38;5;34m1,168\u001b[0m (4.56 KB)\n"
      ]
     },
     "metadata": {},
     "output_type": "display_data"
    },
    {
     "data": {
      "text/html": [
       "<pre style=\"white-space:pre;overflow-x:auto;line-height:normal;font-family:Menlo,'DejaVu Sans Mono',consolas,'Courier New',monospace\"><span style=\"font-weight: bold\"> Non-trainable params: </span><span style=\"color: #00af00; text-decoration-color: #00af00\">0</span> (0.00 B)\n",
       "</pre>\n"
      ],
      "text/plain": [
       "\u001b[1m Non-trainable params: \u001b[0m\u001b[38;5;34m0\u001b[0m (0.00 B)\n"
      ]
     },
     "metadata": {},
     "output_type": "display_data"
    }
   ],
   "source": [
    "#Autoencoder\n",
    "autoencoder = tf.keras.Model(inputs = input_layer,outputs = decoder)\n",
    "autoencoder.summary()"
   ]
  },
  {
   "cell_type": "code",
   "execution_count": 64,
   "id": "c585da16-e291-4cbc-b637-b3ea09284e15",
   "metadata": {},
   "outputs": [],
   "source": [
    "cp = tf.keras.callbacks.ModelCheckpoint(\n",
    "    filepath=\"autoencoder_fraud.keras\",\n",
    "    mode='min',\n",
    "    monitor='val_loss',\n",
    "    verbose=2,\n",
    "    save_best_only=True\n",
    ")\n"
   ]
  },
  {
   "cell_type": "code",
   "execution_count": 65,
   "id": "e8fdcef2-ed6c-46cd-a125-98473fa69d7b",
   "metadata": {},
   "outputs": [],
   "source": [
    "early_stop = tf.keras.callbacks.EarlyStopping(\n",
    "    monitor='val_loss',\n",
    "    min_delta=0.0001,\n",
    "    patience=10,\n",
    "    verbose=11,\n",
    "    mode='min',\n",
    "    restore_best_weights=True\n",
    ")\n"
   ]
  },
  {
   "cell_type": "code",
   "execution_count": 66,
   "id": "3813c158-a55a-481a-b434-edc5904a8533",
   "metadata": {},
   "outputs": [],
   "source": [
    "autoencoder.compile(\n",
    "    metrics=['accuracy'], \n",
    "    loss='mean_squared_error', \n",
    "    optimizer='adam'\n",
    ")\n"
   ]
  },
  {
   "cell_type": "code",
   "execution_count": 67,
   "id": "64170f23-a0a9-4ca0-822f-cc23a64d9078",
   "metadata": {},
   "outputs": [
    {
     "name": "stdout",
     "output_type": "stream",
     "text": [
      "Epoch 1/50\n",
      "\u001b[1m 1/25\u001b[0m \u001b[37m━━━━━━━━━━━━━━━━━━━━\u001b[0m \u001b[1m47s\u001b[0m 2s/step - accuracy: 0.0156 - loss: 0.0022\n",
      "Epoch 1: val_loss improved from inf to 0.00139, saving model to autoencoder_fraud.keras\n",
      "\u001b[1m25/25\u001b[0m \u001b[32m━━━━━━━━━━━━━━━━━━━━\u001b[0m\u001b[37m\u001b[0m \u001b[1m2s\u001b[0m 10ms/step - accuracy: 0.5422 - loss: 0.0018 - val_accuracy: 0.9521 - val_loss: 0.0014\n",
      "Epoch 2/50\n",
      "\u001b[1m 1/25\u001b[0m \u001b[37m━━━━━━━━━━━━━━━━━━━━\u001b[0m \u001b[1m0s\u001b[0m 23ms/step - accuracy: 0.9219 - loss: 0.0011\n",
      "Epoch 2: val_loss improved from 0.00139 to 0.00091, saving model to autoencoder_fraud.keras\n",
      "\u001b[1m25/25\u001b[0m \u001b[32m━━━━━━━━━━━━━━━━━━━━\u001b[0m\u001b[37m\u001b[0m \u001b[1m0s\u001b[0m 3ms/step - accuracy: 0.9526 - loss: 9.2520e-04 - val_accuracy: 0.9521 - val_loss: 9.0566e-04\n",
      "Epoch 3/50\n",
      "\u001b[1m 1/25\u001b[0m \u001b[37m━━━━━━━━━━━━━━━━━━━━\u001b[0m \u001b[1m0s\u001b[0m 21ms/step - accuracy: 0.9688 - loss: 6.1996e-04\n",
      "Epoch 3: val_loss improved from 0.00091 to 0.00083, saving model to autoencoder_fraud.keras\n",
      "\u001b[1m25/25\u001b[0m \u001b[32m━━━━━━━━━━━━━━━━━━━━\u001b[0m\u001b[37m\u001b[0m \u001b[1m0s\u001b[0m 3ms/step - accuracy: 0.9521 - loss: 5.8165e-04 - val_accuracy: 0.9521 - val_loss: 8.3331e-04\n",
      "Epoch 4/50\n",
      "\u001b[1m 1/25\u001b[0m \u001b[37m━━━━━━━━━━━━━━━━━━━━\u001b[0m \u001b[1m0s\u001b[0m 25ms/step - accuracy: 0.9688 - loss: 5.8975e-04\n",
      "Epoch 4: val_loss improved from 0.00083 to 0.00082, saving model to autoencoder_fraud.keras\n",
      "\u001b[1m25/25\u001b[0m \u001b[32m━━━━━━━━━━━━━━━━━━━━\u001b[0m\u001b[37m\u001b[0m \u001b[1m0s\u001b[0m 3ms/step - accuracy: 0.9546 - loss: 5.2399e-04 - val_accuracy: 0.9521 - val_loss: 8.1993e-04\n",
      "Epoch 5/50\n",
      "\u001b[1m 1/25\u001b[0m \u001b[37m━━━━━━━━━━━━━━━━━━━━\u001b[0m \u001b[1m0s\u001b[0m 22ms/step - accuracy: 0.9531 - loss: 4.2536e-04\n",
      "Epoch 5: val_loss improved from 0.00082 to 0.00076, saving model to autoencoder_fraud.keras\n",
      "\u001b[1m25/25\u001b[0m \u001b[32m━━━━━━━━━━━━━━━━━━━━\u001b[0m\u001b[37m\u001b[0m \u001b[1m0s\u001b[0m 3ms/step - accuracy: 0.9522 - loss: 4.6722e-04 - val_accuracy: 0.9521 - val_loss: 7.6236e-04\n",
      "Epoch 6/50\n",
      "\u001b[1m 1/25\u001b[0m \u001b[37m━━━━━━━━━━━━━━━━━━━━\u001b[0m \u001b[1m0s\u001b[0m 21ms/step - accuracy: 0.9688 - loss: 4.2910e-04\n",
      "Epoch 6: val_loss improved from 0.00076 to 0.00069, saving model to autoencoder_fraud.keras\n",
      "\u001b[1m25/25\u001b[0m \u001b[32m━━━━━━━━━━━━━━━━━━━━\u001b[0m\u001b[37m\u001b[0m \u001b[1m0s\u001b[0m 4ms/step - accuracy: 0.9522 - loss: 4.5334e-04 - val_accuracy: 0.9521 - val_loss: 6.9029e-04\n",
      "Epoch 7/50\n",
      "\u001b[1m 1/25\u001b[0m \u001b[37m━━━━━━━━━━━━━━━━━━━━\u001b[0m \u001b[1m0s\u001b[0m 28ms/step - accuracy: 0.9844 - loss: 3.3951e-04\n",
      "Epoch 7: val_loss improved from 0.00069 to 0.00062, saving model to autoencoder_fraud.keras\n",
      "\u001b[1m25/25\u001b[0m \u001b[32m━━━━━━━━━━━━━━━━━━━━\u001b[0m\u001b[37m\u001b[0m \u001b[1m0s\u001b[0m 3ms/step - accuracy: 0.9611 - loss: 3.7743e-04 - val_accuracy: 0.9521 - val_loss: 6.1550e-04\n",
      "Epoch 8/50\n",
      "\u001b[1m 1/25\u001b[0m \u001b[37m━━━━━━━━━━━━━━━━━━━━\u001b[0m \u001b[1m0s\u001b[0m 25ms/step - accuracy: 0.9375 - loss: 8.4154e-04\n",
      "Epoch 8: val_loss improved from 0.00062 to 0.00054, saving model to autoencoder_fraud.keras\n",
      "\u001b[1m25/25\u001b[0m \u001b[32m━━━━━━━━━━━━━━━━━━━━\u001b[0m\u001b[37m\u001b[0m \u001b[1m0s\u001b[0m 3ms/step - accuracy: 0.9451 - loss: 4.0300e-04 - val_accuracy: 0.9521 - val_loss: 5.3583e-04\n",
      "Epoch 9/50\n",
      "\u001b[1m 1/25\u001b[0m \u001b[37m━━━━━━━━━━━━━━━━━━━━\u001b[0m \u001b[1m0s\u001b[0m 21ms/step - accuracy: 0.9844 - loss: 2.9212e-04\n",
      "Epoch 9: val_loss improved from 0.00054 to 0.00048, saving model to autoencoder_fraud.keras\n",
      "\u001b[1m25/25\u001b[0m \u001b[32m━━━━━━━━━━━━━━━━━━━━\u001b[0m\u001b[37m\u001b[0m \u001b[1m0s\u001b[0m 3ms/step - accuracy: 0.9487 - loss: 2.8614e-04 - val_accuracy: 0.9521 - val_loss: 4.7883e-04\n",
      "Epoch 10/50\n",
      "\u001b[1m 1/25\u001b[0m \u001b[37m━━━━━━━━━━━━━━━━━━━━\u001b[0m \u001b[1m0s\u001b[0m 22ms/step - accuracy: 0.9531 - loss: 1.5628e-04\n",
      "Epoch 10: val_loss improved from 0.00048 to 0.00043, saving model to autoencoder_fraud.keras\n",
      "\u001b[1m25/25\u001b[0m \u001b[32m━━━━━━━━━━━━━━━━━━━━\u001b[0m\u001b[37m\u001b[0m \u001b[1m0s\u001b[0m 3ms/step - accuracy: 0.9509 - loss: 2.3121e-04 - val_accuracy: 0.9521 - val_loss: 4.2962e-04\n",
      "Epoch 11/50\n",
      "\u001b[1m 1/25\u001b[0m \u001b[37m━━━━━━━━━━━━━━━━━━━━\u001b[0m \u001b[1m0s\u001b[0m 23ms/step - accuracy: 0.9531 - loss: 1.5236e-04\n",
      "Epoch 11: val_loss improved from 0.00043 to 0.00040, saving model to autoencoder_fraud.keras\n",
      "\u001b[1m25/25\u001b[0m \u001b[32m━━━━━━━━━━━━━━━━━━━━\u001b[0m\u001b[37m\u001b[0m \u001b[1m0s\u001b[0m 3ms/step - accuracy: 0.9437 - loss: 1.9561e-04 - val_accuracy: 0.9521 - val_loss: 3.9946e-04\n",
      "Epoch 12/50\n",
      "\u001b[1m 1/25\u001b[0m \u001b[37m━━━━━━━━━━━━━━━━━━━━\u001b[0m \u001b[1m0s\u001b[0m 21ms/step - accuracy: 0.9688 - loss: 1.3439e-04\n",
      "Epoch 12: val_loss improved from 0.00040 to 0.00040, saving model to autoencoder_fraud.keras\n",
      "\u001b[1m25/25\u001b[0m \u001b[32m━━━━━━━━━━━━━━━━━━━━\u001b[0m\u001b[37m\u001b[0m \u001b[1m0s\u001b[0m 3ms/step - accuracy: 0.9517 - loss: 2.0168e-04 - val_accuracy: 0.9521 - val_loss: 3.9737e-04\n",
      "Epoch 13/50\n",
      "\u001b[1m 1/25\u001b[0m \u001b[37m━━━━━━━━━━━━━━━━━━━━\u001b[0m \u001b[1m0s\u001b[0m 19ms/step - accuracy: 1.0000 - loss: 1.2105e-04\n",
      "Epoch 13: val_loss improved from 0.00040 to 0.00038, saving model to autoencoder_fraud.keras\n",
      "\u001b[1m25/25\u001b[0m \u001b[32m━━━━━━━━━━━━━━━━━━━━\u001b[0m\u001b[37m\u001b[0m \u001b[1m0s\u001b[0m 4ms/step - accuracy: 0.9543 - loss: 1.5163e-04 - val_accuracy: 0.9521 - val_loss: 3.7655e-04\n",
      "Epoch 14/50\n",
      "\u001b[1m 1/25\u001b[0m \u001b[37m━━━━━━━━━━━━━━━━━━━━\u001b[0m \u001b[1m0s\u001b[0m 24ms/step - accuracy: 0.9688 - loss: 9.9475e-05\n",
      "Epoch 14: val_loss improved from 0.00038 to 0.00038, saving model to autoencoder_fraud.keras\n",
      "\u001b[1m25/25\u001b[0m \u001b[32m━━━━━━━━━━━━━━━━━━━━\u001b[0m\u001b[37m\u001b[0m \u001b[1m0s\u001b[0m 3ms/step - accuracy: 0.9527 - loss: 1.6668e-04 - val_accuracy: 0.9521 - val_loss: 3.7571e-04\n",
      "Epoch 15/50\n",
      "\u001b[1m 1/25\u001b[0m \u001b[37m━━━━━━━━━━━━━━━━━━━━\u001b[0m \u001b[1m0s\u001b[0m 22ms/step - accuracy: 0.9375 - loss: 5.4385e-04\n",
      "Epoch 15: val_loss improved from 0.00038 to 0.00037, saving model to autoencoder_fraud.keras\n",
      "\u001b[1m25/25\u001b[0m \u001b[32m━━━━━━━━━━━━━━━━━━━━\u001b[0m\u001b[37m\u001b[0m \u001b[1m0s\u001b[0m 3ms/step - accuracy: 0.9482 - loss: 2.0309e-04 - val_accuracy: 0.9521 - val_loss: 3.6839e-04\n",
      "Epoch 16/50\n",
      "\u001b[1m 1/25\u001b[0m \u001b[37m━━━━━━━━━━━━━━━━━━━━\u001b[0m \u001b[1m0s\u001b[0m 23ms/step - accuracy: 1.0000 - loss: 1.1789e-04\n",
      "Epoch 16: val_loss improved from 0.00037 to 0.00036, saving model to autoencoder_fraud.keras\n",
      "\u001b[1m25/25\u001b[0m \u001b[32m━━━━━━━━━━━━━━━━━━━━\u001b[0m\u001b[37m\u001b[0m \u001b[1m0s\u001b[0m 3ms/step - accuracy: 0.9589 - loss: 1.3186e-04 - val_accuracy: 0.9521 - val_loss: 3.6347e-04\n",
      "Epoch 17/50\n",
      "\u001b[1m 1/25\u001b[0m \u001b[37m━━━━━━━━━━━━━━━━━━━━\u001b[0m \u001b[1m0s\u001b[0m 19ms/step - accuracy: 0.9688 - loss: 1.0800e-04\n",
      "Epoch 17: val_loss improved from 0.00036 to 0.00036, saving model to autoencoder_fraud.keras\n",
      "\u001b[1m25/25\u001b[0m \u001b[32m━━━━━━━━━━━━━━━━━━━━\u001b[0m\u001b[37m\u001b[0m \u001b[1m0s\u001b[0m 3ms/step - accuracy: 0.9506 - loss: 1.4285e-04 - val_accuracy: 0.9521 - val_loss: 3.5614e-04\n",
      "Epoch 18/50\n",
      "\u001b[1m 1/25\u001b[0m \u001b[37m━━━━━━━━━━━━━━━━━━━━\u001b[0m \u001b[1m0s\u001b[0m 19ms/step - accuracy: 0.9062 - loss: 1.1704e-04\n",
      "Epoch 18: val_loss improved from 0.00036 to 0.00035, saving model to autoencoder_fraud.keras\n",
      "\u001b[1m25/25\u001b[0m \u001b[32m━━━━━━━━━━━━━━━━━━━━\u001b[0m\u001b[37m\u001b[0m \u001b[1m0s\u001b[0m 3ms/step - accuracy: 0.9405 - loss: 1.6022e-04 - val_accuracy: 0.9521 - val_loss: 3.5038e-04\n",
      "Epoch 19/50\n",
      "\u001b[1m 1/25\u001b[0m \u001b[37m━━━━━━━━━━━━━━━━━━━━\u001b[0m \u001b[1m0s\u001b[0m 20ms/step - accuracy: 0.9531 - loss: 1.5675e-04\n",
      "Epoch 19: val_loss improved from 0.00035 to 0.00034, saving model to autoencoder_fraud.keras\n",
      "\u001b[1m25/25\u001b[0m \u001b[32m━━━━━━━━━━━━━━━━━━━━\u001b[0m\u001b[37m\u001b[0m \u001b[1m0s\u001b[0m 4ms/step - accuracy: 0.9486 - loss: 1.4033e-04 - val_accuracy: 0.9521 - val_loss: 3.4375e-04\n",
      "Epoch 20/50\n",
      "\u001b[1m 1/25\u001b[0m \u001b[37m━━━━━━━━━━━━━━━━━━━━\u001b[0m \u001b[1m0s\u001b[0m 19ms/step - accuracy: 0.9688 - loss: 1.4855e-04\n",
      "Epoch 20: val_loss improved from 0.00034 to 0.00033, saving model to autoencoder_fraud.keras\n",
      "\u001b[1m25/25\u001b[0m \u001b[32m━━━━━━━━━━━━━━━━━━━━\u001b[0m\u001b[37m\u001b[0m \u001b[1m0s\u001b[0m 3ms/step - accuracy: 0.9518 - loss: 1.4881e-04 - val_accuracy: 0.9521 - val_loss: 3.3276e-04\n",
      "Epoch 21/50\n",
      "\u001b[1m 1/25\u001b[0m \u001b[37m━━━━━━━━━━━━━━━━━━━━\u001b[0m \u001b[1m0s\u001b[0m 20ms/step - accuracy: 0.9375 - loss: 1.1931e-04\n",
      "Epoch 21: val_loss improved from 0.00033 to 0.00033, saving model to autoencoder_fraud.keras\n",
      "\u001b[1m25/25\u001b[0m \u001b[32m━━━━━━━━━━━━━━━━━━━━\u001b[0m\u001b[37m\u001b[0m \u001b[1m0s\u001b[0m 3ms/step - accuracy: 0.9456 - loss: 1.5504e-04 - val_accuracy: 0.9521 - val_loss: 3.2565e-04\n",
      "Epoch 22/50\n",
      "\u001b[1m 1/25\u001b[0m \u001b[37m━━━━━━━━━━━━━━━━━━━━\u001b[0m \u001b[1m0s\u001b[0m 24ms/step - accuracy: 0.9219 - loss: 1.1570e-04\n",
      "Epoch 22: val_loss improved from 0.00033 to 0.00031, saving model to autoencoder_fraud.keras\n",
      "\u001b[1m25/25\u001b[0m \u001b[32m━━━━━━━━━━━━━━━━━━━━\u001b[0m\u001b[37m\u001b[0m \u001b[1m0s\u001b[0m 3ms/step - accuracy: 0.9474 - loss: 1.2682e-04 - val_accuracy: 0.9521 - val_loss: 3.0572e-04\n",
      "Epoch 23/50\n",
      "\u001b[1m 1/25\u001b[0m \u001b[37m━━━━━━━━━━━━━━━━━━━━\u001b[0m \u001b[1m0s\u001b[0m 19ms/step - accuracy: 0.9531 - loss: 5.4933e-04\n",
      "Epoch 23: val_loss improved from 0.00031 to 0.00030, saving model to autoencoder_fraud.keras\n",
      "\u001b[1m25/25\u001b[0m \u001b[32m━━━━━━━━━━━━━━━━━━━━\u001b[0m\u001b[37m\u001b[0m \u001b[1m0s\u001b[0m 3ms/step - accuracy: 0.9498 - loss: 1.9746e-04 - val_accuracy: 0.9521 - val_loss: 3.0002e-04\n",
      "Epoch 23: early stopping\n",
      "Restoring model weights from the end of the best epoch: 13.\n"
     ]
    }
   ],
   "source": [
    "history = autoencoder.fit(\n",
    "    normal_train_data, \n",
    "    normal_train_data, \n",
    "    epochs=nb_epoch,\n",
    "    batch_size=batch_size,\n",
    "    shuffle=True,\n",
    "    validation_data=(test_data, test_data),\n",
    "    verbose=1,\n",
    "    callbacks=[cp, early_stop]\n",
    ").history\n"
   ]
  },
  {
   "cell_type": "code",
   "execution_count": 68,
   "id": "934a42de-c86d-485d-8b17-e5bddfb4ce4a",
   "metadata": {},
   "outputs": [
    {
     "name": "stdout",
     "output_type": "stream",
     "text": [
      "\u001b[1m13/13\u001b[0m \u001b[32m━━━━━━━━━━━━━━━━━━━━\u001b[0m\u001b[37m\u001b[0m \u001b[1m0s\u001b[0m 5ms/step\n"
     ]
    }
   ],
   "source": [
    "test_x_predictions = autoencoder.predict(test_data)\n",
    "mse = np.mean(np.power(test_data - test_x_predictions, 2),axis = 1)\n",
    "error_df = pd.DataFrame({'Reconstruction_error':mse,\n",
    "                         'True_class':test_labels})"
   ]
  },
  {
   "cell_type": "code",
   "execution_count": 69,
   "id": "2e26d602-98a7-463a-b8af-0e481926e06d",
   "metadata": {},
   "outputs": [
    {
     "data": {
      "image/png": "[encoded data removed]",
      "text/plain": [
       "<Figure size 640x480 with 1 Axes>"
      ]
     },
     "metadata": {},
     "output_type": "display_data"
    }
   ],
   "source": [
    "threshold_fixed = 50\n",
    "groups = error_df.groupby('True_class')\n",
    "fig,ax = plt.subplots()\n",
    "\n",
    "for name,group in groups:\n",
    "        ax.plot(group.index,group.Reconstruction_error,marker='o',ms = 3.5,linestyle='',\n",
    "                label = \"Fraud\" if  name==1 else \"Normal\")\n",
    "ax.hlines(threshold_fixed,ax.get_xlim()[0],ax.get_xlim()[1],colors=\"r\",zorder=100,label=\"Threshold\")\n",
    "ax.legend()\n",
    "plt.title(\"Reconstructions error for normal and fraud data\")\n",
    "plt.ylabel(\"Reconstruction error\")\n",
    "plt.xlabel(\"Data point index\")\n",
    "plt.show()"
   ]
  },
  {
   "cell_type": "code",
   "execution_count": 70,
   "id": "ee3b3fa9-f4ca-4a5a-b1ad-78fde44cea81",
   "metadata": {},
   "outputs": [
    {
     "name": "stdout",
     "output_type": "stream",
     "text": [
      "Number of predicted fraud cases: 0\n"
     ]
    },
    {
     "data": {
      "image/png": "[encoded data removed]",
      "text/plain": [
       "<Figure size 400x400 with 2 Axes>"
      ]
     },
     "metadata": {},
     "output_type": "display_data"
    },
    {
     "name": "stdout",
     "output_type": "stream",
     "text": [
      "Accuracy : 0.9974811083123426\n",
      "Recall : 0.0\n",
      "Precision : 1.0\n"
     ]
    }
   ],
   "source": [
    "threshold_fixed = 30\n",
    "pred_y = [1 if e > threshold_fixed else 0 for e in error_df.Reconstruction_error.values]\n",
    "error_df['pred'] = pred_y\n",
    "\n",
    "# Check the number of predicted fraud cases\n",
    "print(\"Number of predicted fraud cases:\", sum(pred_y))\n",
    "\n",
    "# Calculate confusion matrix\n",
    "conf_matrix = confusion_matrix(error_df.True_class, pred_y)\n",
    "\n",
    "# Calculate precision with zero_division to avoid warnings\n",
    "precision = precision_score(error_df['True_class'], error_df['pred'], zero_division=1)\n",
    "\n",
    "# Plot confusion matrix\n",
    "plt.figure(figsize=(4, 4))\n",
    "sns.heatmap(conf_matrix, xticklabels=LABELS, yticklabels=LABELS, annot=True, fmt=\"d\")\n",
    "plt.title(\"Confusion matrix\")\n",
    "plt.ylabel(\"True class\")\n",
    "plt.xlabel(\"Predicted class\")\n",
    "plt.show()\n",
    "\n",
    "# Print Accuracy, Precision, and Recall\n",
    "print(\"Accuracy :\", accuracy_score(error_df['True_class'], error_df['pred']))\n",
    "print(\"Recall :\", recall_score(error_df['True_class'], error_df['pred']))\n",
    "print(\"Precision :\", precision)\n"
   ]
  },
  {
   "cell_type": "code",
   "execution_count": null,
   "id": "23f93680-5ef0-478c-a37c-eae001583e40",
   "metadata": {},
   "outputs": [],
   "source": []
  }
 ],
 "metadata": {
  "kernelspec": {
   "display_name": "Python 3 (ipykernel)",
   "language": "python",
   "name": "python3"
  },
  "language_info": {
   "codemirror_mode": {
    "name": "ipython",
    "version": 3
   },
   "file_extension": ".py",
   "mimetype": "text/x-python",
   "name": "python",
   "nbconvert_exporter": "python",
   "pygments_lexer": "ipython3",
   "version": "3.11.7"
  }
 },
 "nbformat": 4,
 "nbformat_minor": 5
}
