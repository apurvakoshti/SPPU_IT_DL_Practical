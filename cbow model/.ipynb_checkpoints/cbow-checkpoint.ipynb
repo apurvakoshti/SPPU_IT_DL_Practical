{
 "cells": [
  {
   "cell_type": "code",
   "execution_count": 128,
   "id": "6b2cbb16-dc27-4707-83fd-e54eca7e1676",
   "metadata": {},
   "outputs": [],
   "source": [
    "import matplotlib.pyplot as plt #used for creating static, animated visulaisation like graphs, histograms, etc\n",
    "import seaborn as sns #it is also used for data visulaisation\n",
    "import matplotlib as mpl #it is base library used for adusting font size, color, etc\n",
    "import matplotlib.pylab as pylab #it is collection of function\n",
    "import numpy as np #used for data manipulation and numerical operations\n",
    "%matplotlib inline"
   ]
  },
  {
   "cell_type": "markdown",
   "id": "5a682434-10ea-466b-93e7-3db684f5d0c4",
   "metadata": {},
   "source": [
    "Data Preparation"
   ]
  },
  {
   "cell_type": "code",
   "execution_count": 129,
   "id": "2a93f239-e752-496c-b92e-ddefd75b385e",
   "metadata": {},
   "outputs": [],
   "source": [
    "import re #used to import regular expression for tokenisation, stemming, lemmatisation"
   ]
  },
  {
   "cell_type": "code",
   "execution_count": 130,
   "id": "a556287a-2533-4d35-ae28-94dddec0a355",
   "metadata": {},
   "outputs": [],
   "source": [
    "# Example sentence\n",
    "sentences = \"\"\"We are about to study the idea of a computational process. Computational processes are abstract beings that inhabit computers. As they evolve, processes manipulate other abstract things called data. The evolution of a process is directed by a pattern of rules called a program. People create programs to direct processes. In effect, we conjure the spirits of the computer with our spells.\"\"\""
   ]
  },
  {
   "cell_type": "markdown",
   "id": "11d7b660-b33c-4c92-91c8-27384a6888e5",
   "metadata": {},
   "source": [
    "Clean Data"
   ]
  },
  {
   "cell_type": "code",
   "execution_count": 131,
   "id": "91393a3a-45ad-4a3b-a71e-fcb1ac05f039",
   "metadata": {},
   "outputs": [],
   "source": [
    "# Remove special characters\n",
    "sentences = re.sub('[^A-Za-z\\s]', '', sentences)\n",
    "\n",
    "# Remove single-letter words (optional)\n",
    "sentences = re.sub(r'\\b\\w\\b', '', sentences).strip()\n",
    "\n",
    "# Lowercase all characters\n",
    "sentences = sentences.lower()\n"
   ]
  },
  {
   "cell_type": "markdown",
   "id": "dc7150f2-0b41-4b1d-89eb-68a4630716af",
   "metadata": {},
   "source": [
    "Vocabulary"
   ]
  },
  {
   "cell_type": "code",
   "execution_count": 132,
   "id": "b11e70c3-dcd4-43ec-b2b6-6a04636bbe34",
   "metadata": {},
   "outputs": [],
   "source": [
    "# Split sentence into words\n",
    "words = sentences.split()\n",
    "\n",
    "# Create vocabulary set\n",
    "vocab = set(words)  #It remove duplicates words as it is set\n"
   ]
  },
  {
   "cell_type": "code",
   "execution_count": 133,
   "id": "150d9295-706c-4008-bcf8-5b852f7074e5",
   "metadata": {},
   "outputs": [],
   "source": [
    "vocab_size = len(vocab) #it gives the total number of unique words in vocab\n",
    "word_to_ix = {word: i for i, word in enumerate(vocab)}\n",
    "ix_to_word = {i: word for i, word in enumerate(vocab)}\n",
    "embed_dim= 10\n",
    "context_size= 2"
   ]
  },
  {
   "cell_type": "markdown",
   "id": "30864df2-480e-4990-b148-b9524dd0b69c",
   "metadata": {},
   "source": [
    "Context-target pairs"
   ]
  },
  {
   "cell_type": "code",
   "execution_count": 134,
   "id": "6ebe834f-f7e2-4815-95f5-259821e32097",
   "metadata": {},
   "outputs": [],
   "source": [
    "# Prepare the CBOW context-target data\n",
    "data = []\n",
    "for i in range(2, len(words) - 2):\n",
    "    context = [words[i - 2], words[i - 1], words[i + 1], words[i + 2]]\n",
    "    target = words[i]\n",
    "    data.append((context, target))"
   ]
  },
  {
   "cell_type": "code",
   "execution_count": 135,
   "id": "a6087361-8347-4654-aee9-c9cadada4ff1",
   "metadata": {},
   "outputs": [
    {
     "name": "stdout",
     "output_type": "stream",
     "text": [
      "[(['we', 'are', 'to', 'study'], 'about'), (['are', 'about', 'study', 'the'], 'to'), (['about', 'to', 'the', 'idea'], 'study'), (['to', 'study', 'idea', 'of'], 'the'), (['study', 'the', 'of', 'computational'], 'idea')]\n"
     ]
    }
   ],
   "source": [
    "# Print first 5 context-target pairs\n",
    "print(data[:5])"
   ]
  },
  {
   "cell_type": "markdown",
   "id": "e707cc22-fce9-43b9-8434-ca553ffe219f",
   "metadata": {},
   "source": [
    "Embeddings and Theta Initialisation"
   ]
  },
  {
   "cell_type": "code",
   "execution_count": 136,
   "id": "68ef8873-0210-4a5b-b276-0a79a511e611",
   "metadata": {},
   "outputs": [],
   "source": [
    "embeddings= np.random.random_sample((vocab_size, embed_dim))\n",
    "theta = np.random.uniform(-1, 1, (2 * context_size * embed_dim, vocab_size))"
   ]
  },
  {
   "cell_type": "markdown",
   "id": "ab8bfd46-2ea2-490f-a279-6cfc41ba5148",
   "metadata": {},
   "source": [
    "Models"
   ]
  },
  {
   "cell_type": "code",
   "execution_count": 137,
   "id": "58d9efe5-3f94-4a3a-925a-278c320051bd",
   "metadata": {},
   "outputs": [],
   "source": [
    "def linear(m, theta): #it performs matrix multiplication of m and theta\n",
    "    w=theta\n",
    "    return m.dot(w)"
   ]
  },
  {
   "cell_type": "code",
   "execution_count": 138,
   "id": "9145d5ef-12ec-48e3-ae17-a467b6a81428",
   "metadata": {},
   "outputs": [],
   "source": [
    "def log_softmax(x):\n",
    "    e_x = np.exp(x - np.max(x))\n",
    "    return np.log(e_x / e_x.sum(axis=-1, keepdims=True))"
   ]
  },
  {
   "cell_type": "code",
   "execution_count": 139,
   "id": "e5fcc14d-eb24-4dab-8b82-158c7caa13ba",
   "metadata": {},
   "outputs": [],
   "source": [
    "def NLLLoss(logs, targets):\n",
    "    out = logs[range(len(targets)), targets]\n",
    "    return -out.mean()"
   ]
  },
  {
   "cell_type": "code",
   "execution_count": 140,
   "id": "017bfbd9-957d-4d46-a29d-67aad23932ab",
   "metadata": {},
   "outputs": [],
   "source": [
    "def forward(context_idxs, theta):\n",
    "    m = embeddings[context_idxs].reshape(1, -1)\n",
    "    n = linear(m, theta)\n",
    "    o = log_softmax(n)\n",
    "    return m, n, o"
   ]
  },
  {
   "cell_type": "code",
   "execution_count": 141,
   "id": "578dde3b-a1dc-459f-9027-6857d17a7c8a",
   "metadata": {},
   "outputs": [],
   "source": [
    "def backward(preds, theta, target_idx):\n",
    "    m, n, o = preds\n",
    "    target_vector = np.zeros_like(o)\n",
    "    target_vector[0, target_idx] = 1\n",
    "    dlog = o - target_vector\n",
    "    dw = m.T.dot(dlog)\n",
    "    return dw"
   ]
  },
  {
   "cell_type": "code",
   "execution_count": 142,
   "id": "f750d59c-f0f8-4e90-a729-1b220439a1c5",
   "metadata": {},
   "outputs": [],
   "source": [
    "def optimize(theta, grad, lr=0.03):\n",
    "    theta -= lr * grad\n",
    "    return theta\n"
   ]
  },
  {
   "cell_type": "code",
   "execution_count": 143,
   "id": "88d9c59f-7dcd-4496-a2f4-f2893c745a67",
   "metadata": {},
   "outputs": [],
   "source": [
    "# Training loop"
   ]
  },
  {
   "cell_type": "code",
   "execution_count": 144,
   "id": "04f8f9a6-da0e-43ab-997c-0240c1fda9ed",
   "metadata": {},
   "outputs": [
    {
     "name": "stdout",
     "output_type": "stream",
     "text": [
      "Epoch 0, Loss: 4.562663621333068\n",
      "Epoch 10, Loss: 3.7171285190997\n",
      "Epoch 20, Loss: 3.5160265076750554\n",
      "Epoch 30, Loss: 3.416271123564801\n",
      "Epoch 40, Loss: 3.3542948994820905\n",
      "Epoch 50, Loss: 3.3112002352466083\n",
      "Epoch 60, Loss: 3.2792036867228056\n",
      "Epoch 70, Loss: 3.254395790415956\n",
      "Epoch 80, Loss: 3.234549855081747\n",
      "Epoch 90, Loss: 3.218287292183718\n"
     ]
    }
   ],
   "source": [
    "epochs = 100\n",
    "lr = 0.01\n",
    "for epoch in range(epochs):\n",
    "    total_loss = 0\n",
    "    for context, target in data:\n",
    "        context_idxs = np.array([word_to_ix[w] for w in context])\n",
    "        target_idx = word_to_ix[target]\n",
    "        \n",
    "        # Forward pass\n",
    "        preds = forward(context_idxs, theta)\n",
    "        \n",
    "        # Loss calculation\n",
    "        _, _, log_probs = preds\n",
    "        loss = NLLLoss(log_probs, [target_idx])\n",
    "        total_loss += loss\n",
    "        \n",
    "        # Backward pass and optimization\n",
    "        grad = backward(preds, theta, target_idx)\n",
    "        theta = optimize(theta, grad, lr)\n",
    "\n",
    "    if epoch % 10 == 0:\n",
    "        print(f\"Epoch {epoch}, Loss: {total_loss / len(data)}\")\n"
   ]
  },
  {
   "cell_type": "code",
   "execution_count": 145,
   "id": "0fef96bf-aa84-4cb9-94d4-8e37720de892",
   "metadata": {},
   "outputs": [],
   "source": [
    "# Prediction function"
   ]
  },
  {
   "cell_type": "code",
   "execution_count": 146,
   "id": "0e1fa523-0158-460a-9423-d8e1ff164c88",
   "metadata": {},
   "outputs": [],
   "source": [
    "def predict(words):\n",
    "    context_idxs = np.array([word_to_ix[w] for w in words])\n",
    "    _, _, log_probs = forward(context_idxs, theta)\n",
    "    word = ix_to_word[np.argmax(log_probs)]\n",
    "    return word"
   ]
  },
  {
   "cell_type": "code",
   "execution_count": 147,
   "id": "3dc2c91c-1a5a-475b-92d3-6da133f0b535",
   "metadata": {},
   "outputs": [],
   "source": [
    "# Testing the prediction"
   ]
  },
  {
   "cell_type": "code",
   "execution_count": 148,
   "id": "d304bf00-ef3d-48fd-9cfa-18cd424126c8",
   "metadata": {},
   "outputs": [
    {
     "name": "stdout",
     "output_type": "stream",
     "text": [
      "about\n"
     ]
    }
   ],
   "source": [
    "print(predict(['we', 'are', 'to', 'study']))"
   ]
  },
  {
   "cell_type": "code",
   "execution_count": 149,
   "id": "ec8135d1-f3d2-454a-bb55-ad4c65cd3064",
   "metadata": {},
   "outputs": [],
   "source": [
    "# Accuracy function"
   ]
  },
  {
   "cell_type": "code",
   "execution_count": 150,
   "id": "60a940ae-a2d2-4c97-b58e-49a5925955a1",
   "metadata": {},
   "outputs": [],
   "source": [
    "def accuracy():\n",
    "    wrong = 0\n",
    "    for context, target in data:\n",
    "        if predict(context) != target:\n",
    "            wrong += 1\n",
    "    return 1 - (wrong / len(data))"
   ]
  },
  {
   "cell_type": "code",
   "execution_count": 151,
   "id": "70927f16-a3e6-43ba-88ff-b7a72fca354b",
   "metadata": {},
   "outputs": [
    {
     "name": "stdout",
     "output_type": "stream",
     "text": [
      "Accuracy: 0.9814814814814815\n"
     ]
    }
   ],
   "source": [
    "print(\"Accuracy:\", accuracy())"
   ]
  },
  {
   "cell_type": "code",
   "execution_count": 152,
   "id": "03110887-1c05-47be-8b24-2f173691dd6c",
   "metadata": {},
   "outputs": [
    {
     "data": {
      "text/plain": [
       "'beings'"
      ]
     },
     "execution_count": 152,
     "metadata": {},
     "output_type": "execute_result"
    }
   ],
   "source": [
    "predict(['are','abstract','that','inhabit'])"
   ]
  }
 ],
 "metadata": {
  "kernelspec": {
   "display_name": "Python 3 (ipykernel)",
   "language": "python",
   "name": "python3"
  },
  "language_info": {
   "codemirror_mode": {
    "name": "ipython",
    "version": 3
   },
   "file_extension": ".py",
   "mimetype": "text/x-python",
   "name": "python",
   "nbconvert_exporter": "python",
   "pygments_lexer": "ipython3",
   "version": "3.11.7"
  }
 },
 "nbformat": 4,
 "nbformat_minor": 5
}
